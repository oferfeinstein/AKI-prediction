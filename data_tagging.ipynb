{
 "cells": [
  {
   "cell_type": "markdown",
   "source": [
    "## Imports"
   ],
   "metadata": {
    "collapsed": false
   }
  },
  {
   "cell_type": "code",
   "execution_count": 2,
   "outputs": [],
   "source": [
    "import pandas as pd\n",
    "from typing import *\n",
    "from datetime import datetime, timedelta"
   ],
   "metadata": {
    "collapsed": false,
    "ExecuteTime": {
     "end_time": "2023-11-08T08:31:29.513632Z",
     "start_time": "2023-11-08T08:31:24.206941Z"
    }
   }
  },
  {
   "cell_type": "markdown",
   "source": [
    "## Functions"
   ],
   "metadata": {
    "collapsed": false
   }
  },
  {
   "cell_type": "code",
   "execution_count": 3,
   "outputs": [],
   "source": [
    "def to_dates(df: pd.DataFrame, cols: List[str]) -> pd.DataFrame:\n",
    "    \"\"\"Gets dataframe and soecific columns and convert the columns type to DateTime\"\"\"\n",
    "    for col in cols:\n",
    "        df[col] = pd.to_datetime(df[col], format='mixed')\n",
    "    return df"
   ],
   "metadata": {
    "collapsed": false,
    "ExecuteTime": {
     "end_time": "2023-11-08T08:31:29.516772Z",
     "start_time": "2023-11-08T08:31:29.494564Z"
    }
   }
  },
  {
   "cell_type": "markdown",
   "source": [
    "## Patients table"
   ],
   "metadata": {
    "collapsed": false
   }
  },
  {
   "cell_type": "code",
   "execution_count": 4,
   "outputs": [],
   "source": [
    "patients_df = pd.read_csv('data/patients.csv')\n",
    "patients_df = to_dates(patients_df, ['admission_time', 'discharge_time', 'birth_date', 'death_date'])"
   ],
   "metadata": {
    "collapsed": false,
    "ExecuteTime": {
     "end_time": "2023-11-08T08:31:29.808560Z",
     "start_time": "2023-11-08T08:31:29.515962Z"
    }
   }
  },
  {
   "cell_type": "code",
   "execution_count": 5,
   "outputs": [],
   "source": [
    "patients_df = patients_df.loc[patients_df['patient_id'].notna()]"
   ],
   "metadata": {
    "collapsed": false,
    "ExecuteTime": {
     "end_time": "2023-11-08T08:31:29.812384Z",
     "start_time": "2023-11-08T08:31:29.559630Z"
    }
   }
  },
  {
   "cell_type": "markdown",
   "source": [
    "> patients table statistics: there are 9,707 unique patients and total of 16,764 cases.\n",
    "> After removing rows with patients ID equals to NaN there are 9,706 unique patients IDs."
   ],
   "metadata": {
    "collapsed": false
   }
  },
  {
   "cell_type": "code",
   "execution_count": 6,
   "outputs": [
    {
     "data": {
      "text/plain": "16764"
     },
     "execution_count": 6,
     "metadata": {},
     "output_type": "execute_result"
    }
   ],
   "source": [
    "patients_df['case_no'].nunique()"
   ],
   "metadata": {
    "collapsed": false,
    "ExecuteTime": {
     "end_time": "2023-11-08T08:31:29.886885Z",
     "start_time": "2023-11-08T08:31:29.701008Z"
    }
   }
  },
  {
   "cell_type": "markdown",
   "source": [
    "## Labs"
   ],
   "metadata": {
    "collapsed": false
   }
  },
  {
   "cell_type": "code",
   "execution_count": 7,
   "outputs": [
    {
     "name": "stderr",
     "output_type": "stream",
     "text": [
      "/var/folders/wc/nyw2632d74j_dl64800j39mw0000gn/T/ipykernel_55047/1261482154.py:1: DtypeWarning: Columns (3) have mixed types. Specify dtype option on import or set low_memory=False.\n",
      "  labs1_df = pd.read_csv('data/labs1.csv')\n",
      "/var/folders/wc/nyw2632d74j_dl64800j39mw0000gn/T/ipykernel_55047/1261482154.py:2: DtypeWarning: Columns (3) have mixed types. Specify dtype option on import or set low_memory=False.\n",
      "  labs2_df = pd.read_csv('data/labs2.csv')\n"
     ]
    }
   ],
   "source": [
    "labs1_df = pd.read_csv('data/labs1.csv')\n",
    "labs2_df = pd.read_csv('data/labs2.csv')\n",
    "labs3_df = pd.read_csv('data/labs3.csv')"
   ],
   "metadata": {
    "collapsed": false,
    "ExecuteTime": {
     "end_time": "2023-10-12T10:22:13.990813Z",
     "start_time": "2023-10-12T10:22:01.668011Z"
    }
   }
  },
  {
   "cell_type": "code",
   "execution_count": 8,
   "outputs": [],
   "source": [
    "labs_df = pd.concat([labs1_df, labs2_df])\n",
    "labs_df = pd.concat([labs_df, labs3_df])\n",
    "labs_df = to_dates(labs_df, ['LAB_TIME', 'LAB_DATE'])"
   ],
   "metadata": {
    "collapsed": false,
    "ExecuteTime": {
     "end_time": "2023-10-12T10:22:16.332140Z",
     "start_time": "2023-10-12T10:22:13.995815Z"
    }
   }
  },
  {
   "cell_type": "markdown",
   "source": [
    "## defining the target"
   ],
   "metadata": {
    "collapsed": false
   }
  },
  {
   "cell_type": "markdown",
   "source": [
    "> Merge labs table with patients table to calculate creatinine after admission.\n",
    "> After merging, there are 16,764 cases numbers, 9,706 patients. When reducing the table only for creatinine-BL, there are 16,709 cases, 9,684 cases."
   ],
   "metadata": {
    "collapsed": false
   }
  },
  {
   "cell_type": "code",
   "execution_count": 10,
   "outputs": [],
   "source": [
    "labs_patients_df = pd.merge(labs_df, patients_df, on=['case_no', 'patient_id'], how='right')"
   ],
   "metadata": {
    "collapsed": false,
    "ExecuteTime": {
     "end_time": "2023-10-12T10:22:20.136545Z",
     "start_time": "2023-10-12T10:22:16.349094Z"
    }
   }
  },
  {
   "cell_type": "code",
   "execution_count": 12,
   "outputs": [],
   "source": [
    "creatinine_df = labs_patients_df.loc[labs_patients_df['LAB_EXAMINATION_NAME'] == 'Creatinine-BL']"
   ],
   "metadata": {
    "collapsed": false,
    "ExecuteTime": {
     "end_time": "2023-10-12T10:22:22.869275Z",
     "start_time": "2023-10-12T10:22:22.419092Z"
    }
   }
  },
  {
   "cell_type": "code",
   "execution_count": null,
   "outputs": [],
   "source": [
    "times_df = creatinine_df[['case_no', 'patient_id', 'admission_time', 'LAB_TIME', 'LAB_DATE', 'LAB_HOUR', 'exam_numeric_result']]"
   ],
   "metadata": {
    "collapsed": false,
    "is_executing": true
   }
  },
  {
   "cell_type": "code",
   "execution_count": null,
   "outputs": [],
   "source": [
    "times_df['difference'] = times_df['LAB_TIME'] - times_df['admission_time']\n",
    "times_df = times_df.loc[times_df['difference'].dt.components['days'] < 1]"
   ],
   "metadata": {
    "collapsed": false,
    "is_executing": true
   }
  },
  {
   "cell_type": "code",
   "execution_count": 18,
   "outputs": [],
   "source": [
    "# taking the first lab for each case number after the admission\n",
    "first_creatinine_lab = times_df.groupby('case_no')['LAB_TIME'].first().reset_index()"
   ],
   "metadata": {
    "collapsed": false,
    "ExecuteTime": {
     "end_time": "2023-10-12T10:27:34.407345Z",
     "start_time": "2023-10-12T10:27:34.354876Z"
    }
   }
  },
  {
   "cell_type": "code",
   "execution_count": null,
   "outputs": [],
   "source": [
    "first_creatinine_res = pd.merge(first_creatinine_lab, times_df, on=['case_no', 'LAB_TIME'], how='left')\n",
    "first_creatinine_res.drop_duplicates(subset='case_no', keep='first', inplace=True)\n",
    "first_creatinine_res.rename(columns={'exam_numeric_result': 'first_creatinine_test'}, inplace=True)\n",
    "first_creatinine_res = first_creatinine_res[['case_no', 'first_creatinine_test']]"
   ],
   "metadata": {
    "collapsed": false,
    "is_executing": true
   }
  },
  {
   "cell_type": "code",
   "execution_count": null,
   "outputs": [],
   "source": [
    "creatinine_tests_df = pd.merge(first_creatinine_res, creatinine_df, on='case_no', how='left')"
   ],
   "metadata": {
    "collapsed": false,
    "is_executing": true
   }
  },
  {
   "cell_type": "code",
   "execution_count": null,
   "outputs": [],
   "source": [
    "creatinine_tests_df['creatinine_diff'] = creatinine_tests_df['exam_numeric_result'] - creatinine_tests_df['first_creatinine_test']"
   ],
   "metadata": {
    "collapsed": false,
    "is_executing": true
   }
  },
  {
   "cell_type": "code",
   "execution_count": 23,
   "outputs": [],
   "source": [
    "creatinine_tests_df = creatinine_tests_df.loc[creatinine_tests_df['creatinine_diff'].notna()]"
   ],
   "metadata": {
    "collapsed": false,
    "ExecuteTime": {
     "end_time": "2023-10-12T10:29:10.646359Z",
     "start_time": "2023-10-12T10:29:10.603462Z"
    }
   }
  },
  {
   "cell_type": "code",
   "execution_count": 25,
   "outputs": [],
   "source": [
    "aki_patients = creatinine_tests_df.loc[creatinine_tests_df['creatinine_diff'] >= 0.3]\n",
    "no_aki_patients = creatinine_tests_df.loc[~creatinine_tests_df['case_no'].isin(aki_patients['case_no'])]"
   ],
   "metadata": {
    "collapsed": false,
    "ExecuteTime": {
     "end_time": "2023-10-12T10:29:12.989483Z",
     "start_time": "2023-10-12T10:29:12.780341Z"
    }
   }
  },
  {
   "cell_type": "code",
   "execution_count": 26,
   "outputs": [
    {
     "data": {
      "text/plain": "4608"
     },
     "execution_count": 26,
     "metadata": {},
     "output_type": "execute_result"
    }
   ],
   "source": [
    "aki_patients['case_no'].nunique()"
   ],
   "metadata": {
    "collapsed": false,
    "ExecuteTime": {
     "end_time": "2023-10-12T10:29:12.992789Z",
     "start_time": "2023-10-12T10:29:12.824689Z"
    }
   }
  },
  {
   "cell_type": "code",
   "execution_count": 27,
   "outputs": [
    {
     "data": {
      "text/plain": "11878"
     },
     "execution_count": 27,
     "metadata": {},
     "output_type": "execute_result"
    }
   ],
   "source": [
    "no_aki_patients['case_no'].nunique()"
   ],
   "metadata": {
    "collapsed": false,
    "ExecuteTime": {
     "end_time": "2023-10-12T10:29:15.456303Z",
     "start_time": "2023-10-12T10:29:15.443020Z"
    }
   }
  },
  {
   "cell_type": "code",
   "execution_count": 28,
   "outputs": [],
   "source": [
    "aki_admission_df = pd.merge(aki_patients, patients_df[['case_no', 'admission_time']], on=['case_no', 'admission_time'], how='left')[['case_no', 'admission_time']].drop_duplicates()\n",
    "no_aki_admission_df = pd.merge(no_aki_patients, patients_df[['case_no', 'admission_time']], on=['case_no', 'admission_time'], how='left')[['case_no', 'admission_time']].drop_duplicates()"
   ],
   "metadata": {
    "collapsed": false,
    "ExecuteTime": {
     "end_time": "2023-10-12T10:29:56.556887Z",
     "start_time": "2023-10-12T10:29:56.379569Z"
    }
   }
  },
  {
   "cell_type": "code",
   "execution_count": 29,
   "outputs": [],
   "source": [
    "no_aki_admission_df.to_csv('labels/no_aki_admission.csv')\n",
    "aki_admission_df.to_csv('labels/aki_admission.csv')"
   ],
   "metadata": {
    "collapsed": false,
    "ExecuteTime": {
     "end_time": "2023-10-12T10:30:22.687201Z",
     "start_time": "2023-10-12T10:30:22.465959Z"
    }
   }
  }
 ],
 "metadata": {
  "kernelspec": {
   "display_name": "Python 3",
   "language": "python",
   "name": "python3"
  },
  "language_info": {
   "codemirror_mode": {
    "name": "ipython",
    "version": 2
   },
   "file_extension": ".py",
   "mimetype": "text/x-python",
   "name": "python",
   "nbconvert_exporter": "python",
   "pygments_lexer": "ipython2",
   "version": "2.7.6"
  }
 },
 "nbformat": 4,
 "nbformat_minor": 0
}
