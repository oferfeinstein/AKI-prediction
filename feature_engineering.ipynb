{
 "cells": [
  {
   "cell_type": "markdown",
   "source": [
    "## Imports"
   ],
   "metadata": {
    "collapsed": false
   }
  },
  {
   "cell_type": "code",
   "execution_count": 1,
   "outputs": [],
   "source": [
    "import pandas as pd\n",
    "import numpy as np"
   ],
   "metadata": {
    "collapsed": false,
    "ExecuteTime": {
     "end_time": "2023-11-16T11:38:44.457359Z",
     "start_time": "2023-11-16T11:38:44.016725Z"
    }
   }
  },
  {
   "cell_type": "markdown",
   "source": [
    "## Read data"
   ],
   "metadata": {
    "collapsed": false
   }
  },
  {
   "cell_type": "code",
   "execution_count": 115,
   "outputs": [
    {
     "name": "stderr",
     "output_type": "stream",
     "text": [
      "/var/folders/wc/nyw2632d74j_dl64800j39mw0000gn/T/ipykernel_27831/78979866.py:6: DtypeWarning: Columns (1) have mixed types. Specify dtype option on import or set low_memory=False.\n",
      "  filtered_labs_df = pd.read_csv('filtered data/filtered_labs_df.csv', index_col=0)\n",
      "/var/folders/wc/nyw2632d74j_dl64800j39mw0000gn/T/ipykernel_27831/78979866.py:9: DtypeWarning: Columns (1,10) have mixed types. Specify dtype option on import or set low_memory=False.\n",
      "  filtered_measures_df = pd.read_csv('filtered data/new_filtered_measures.csv', index_col=0)\n"
     ]
    }
   ],
   "source": [
    "filtered_diag_df = pd.read_csv('filtered data/filtered_diagnosis_df.csv', index_col=0)\n",
    "filtered_drug_adm_df = pd.read_csv('data/drugs_adm.csv', index_col=0)\n",
    "filtered_drug_med_df = pd.read_csv('filtered data/filtered_drug_med_df.csv', index_col=0)\n",
    "filtered_drug_recom_df = pd.read_csv('filtered data/filtered_drug_recom_df.csv', index_col=0)\n",
    "filtered_jugular_df = pd.read_csv('filtered data/filtered_jugular_df.csv', index_col=0)\n",
    "filtered_labs_df = pd.read_csv('filtered data/filtered_labs_df.csv', index_col=0)\n",
    "filtered_limbs_df = pd.read_csv('filtered data/filtered_limbs_df.csv', index_col=0)\n",
    "filtered_lungs_df = pd.read_csv('filtered data/filtered_lungs_df.csv', index_col=0)\n",
    "filtered_measures_df = pd.read_csv('filtered data/new_filtered_measures.csv', index_col=0)"
   ],
   "metadata": {
    "collapsed": false,
    "ExecuteTime": {
     "end_time": "2023-11-17T13:01:59.447722Z",
     "start_time": "2023-11-17T13:01:54.753144Z"
    }
   }
  },
  {
   "cell_type": "code",
   "execution_count": 28,
   "outputs": [],
   "source": [
    "## Add patients information\n",
    "patients_info = pd.read_csv('data/patients.csv')\n",
    "patients_info['birth_date'] = pd.to_datetime(patients_info['birth_date'], format='%Y-%m-%d %H:%M:%S.%f')\n",
    "patients_info['admission_time'] = pd.to_datetime(patients_info['admission_time'], format='%Y-%m-%d %H:%M:%S.%f')\n",
    "patients_info['discharge_time'] = pd.to_datetime(patients_info['discharge_time'], format='%Y-%m-%d %H:%M:%S.%f')\n",
    "\n",
    "patients_info['birth_date'] = pd.to_datetime(patients_info['birth_date'], format='mixed')\n",
    "patients_info['admission_time'] = pd.to_datetime(patients_info['admission_time'], format='mixed')\n",
    "patients_info['discharge_time'] = pd.to_datetime(patients_info['discharge_time'], format='mixed')\n",
    "patients_info['Age'] = patients_info['admission_time'].dt.year - patients_info['birth_date'].dt.year\n",
    "gender_mapping = {'female': 1, 'male': 0}\n",
    "patients_info['Gender'] = patients_info['gender'].map(gender_mapping)\n",
    "#patients_info['Length of stay'] = (patients_info['discharge_time'] - patients_info['admission_time']).dt.days\n",
    "# patients_info.sort_values(by=['patient_id', 'admission_time'], inplace=True)\n",
    "#patients_info['readmission'] = patients_info.duplicated(subset='patient_id', keep='first').astype(int)"
   ],
   "metadata": {
    "collapsed": false,
    "ExecuteTime": {
     "end_time": "2023-11-16T12:32:35.927632Z",
     "start_time": "2023-11-16T12:32:35.865151Z"
    }
   }
  },
  {
   "cell_type": "code",
   "execution_count": 9,
   "outputs": [],
   "source": [
    "# Sort DataFrame by patient_id and admission_time\n",
    "patients_info.sort_values(by=['patient_id', 'admission_time'], inplace=True)\n",
    "# Add a column for readmission\n",
    "patients_info['Readmission (30 days)'] = 0\n",
    "# Iterate over rows and check for readmission\n",
    "for i in range(1, len(patients_info)):\n",
    "    if patients_info['patient_id'].iloc[i] == patients_info['patient_id'].iloc[i - 1]:\n",
    "        discharge_to_admission_gap = patients_info['admission_time'].iloc[i] - patients_info['discharge_time'].iloc[i - 1]\n",
    "        if discharge_to_admission_gap <= pd.Timedelta(days=30):\n",
    "            patients_info.at[patients_info.index[i], 'Readmission (30 days)'] = 1"
   ],
   "metadata": {
    "collapsed": false,
    "ExecuteTime": {
     "end_time": "2023-11-16T11:40:53.249154Z",
     "start_time": "2023-11-16T11:40:52.749788Z"
    }
   }
  },
  {
   "cell_type": "code",
   "execution_count": 11,
   "outputs": [],
   "source": [
    "patients_info[['case_no', 'Gender', 'Age', 'Readmission (30 days)']].to_csv('data_for_model/patients_info.csv')"
   ],
   "metadata": {
    "collapsed": false,
    "ExecuteTime": {
     "end_time": "2023-11-16T11:40:54.950451Z",
     "start_time": "2023-11-16T11:40:54.909463Z"
    }
   }
  },
  {
   "cell_type": "markdown",
   "source": [],
   "metadata": {
    "collapsed": false
   }
  },
  {
   "cell_type": "markdown",
   "source": [
    "## Measurements"
   ],
   "metadata": {
    "collapsed": false
   }
  },
  {
   "cell_type": "code",
   "execution_count": 116,
   "outputs": [
    {
     "name": "stderr",
     "output_type": "stream",
     "text": [
      "/var/folders/wc/nyw2632d74j_dl64800j39mw0000gn/T/ipykernel_27831/1015471249.py:2: SettingWithCopyWarning: \n",
      "A value is trying to be set on a copy of a slice from a DataFrame\n",
      "\n",
      "See the caveats in the documentation: https://pandas.pydata.org/pandas-docs/stable/user_guide/indexing.html#returning-a-view-versus-a-copy\n",
      "  measures_feats_df.drop_duplicates(inplace=True)\n",
      "/var/folders/wc/nyw2632d74j_dl64800j39mw0000gn/T/ipykernel_27831/1015471249.py:3: SettingWithCopyWarning: \n",
      "A value is trying to be set on a copy of a slice from a DataFrame.\n",
      "Try using .loc[row_indexer,col_indexer] = value instead\n",
      "\n",
      "See the caveats in the documentation: https://pandas.pydata.org/pandas-docs/stable/user_guide/indexing.html#returning-a-view-versus-a-copy\n",
      "  measures_feats_df['case_no'] = measures_feats_df['case_no'].astype(str)\n"
     ]
    }
   ],
   "source": [
    "measures_feats_df = filtered_measures_df[['case_no', 'MEASURE_CODE', 'RESULT_NUMERIC', 'MEASURE_NAME', 'MEASURE_TIME']]\n",
    "measures_feats_df.drop_duplicates(inplace=True)\n",
    "measures_feats_df['case_no'] = measures_feats_df['case_no'].astype(str)\n",
    "measures_groups = pd.read_excel('measures_groups.xlsx')"
   ],
   "metadata": {
    "collapsed": false,
    "ExecuteTime": {
     "end_time": "2023-11-17T13:02:00.003425Z",
     "start_time": "2023-11-17T13:01:59.512839Z"
    }
   }
  },
  {
   "cell_type": "code",
   "execution_count": 117,
   "outputs": [],
   "source": [
    "# remove measurements with count < 50\n",
    "measures_names = measures_feats_df['MEASURE_NAME'].value_counts().reset_index().rename(columns={'MEASURE_NAME' : 'count', 'index': 'MEASURE_NAME'})\n",
    "measures_names_to_remain = measures_names.loc[measures_names['count'] > 50]['MEASURE_NAME']\n",
    "measures_feats_df = measures_feats_df.loc[measures_feats_df['MEASURE_NAME'].isin(measures_names_to_remain)]"
   ],
   "metadata": {
    "collapsed": false,
    "ExecuteTime": {
     "end_time": "2023-11-17T13:02:00.107323Z",
     "start_time": "2023-11-17T13:02:00.042631Z"
    }
   }
  },
  {
   "cell_type": "code",
   "execution_count": 118,
   "outputs": [],
   "source": [
    "merged_measures = pd.merge(measures_feats_df, measures_groups[['MEASURE_CODE', 'MEASURE_GROUP']], on='MEASURE_CODE', how='left')"
   ],
   "metadata": {
    "collapsed": false,
    "ExecuteTime": {
     "end_time": "2023-11-17T13:02:00.204658Z",
     "start_time": "2023-11-17T13:02:00.071163Z"
    }
   }
  },
  {
   "cell_type": "code",
   "execution_count": null,
   "outputs": [],
   "source": [
    "first_measurements = merged_measures.groupby(['case_no', 'MEASURE_GROUP'], as_index=False).first()\n",
    "first_pivot_measures_df = first_measurements.pivot_table(index=['case_no'], values='RESULT_NUMERIC', columns='MEASURE_GROUP')\n",
    "first_pivot_measures_df = first_pivot_measures_df.add_suffix('_first')"
   ],
   "metadata": {
    "collapsed": false,
    "is_executing": true
   }
  },
  {
   "cell_type": "code",
   "execution_count": null,
   "outputs": [],
   "source": [
    "last_measurements = merged_measures.groupby(['case_no', 'MEASURE_GROUP'], as_index=False).last()\n",
    "last_pivot_measures_df = last_measurements.pivot_table(index=['case_no'], values='RESULT_NUMERIC', columns='MEASURE_GROUP')\n",
    "last_pivot_measures_df = last_pivot_measures_df.add_suffix('_last')"
   ],
   "metadata": {
    "collapsed": false,
    "is_executing": true
   }
  },
  {
   "cell_type": "code",
   "execution_count": null,
   "outputs": [],
   "source": [
    "mean_pivot_measures_df = merged_measures.pivot_table(index=['case_no', 'MEASURE_GROUP'], values='RESULT_NUMERIC', aggfunc='mean').reset_index()\n",
    "mean_pivot_measures_df = mean_pivot_measures_df.pivot_table(index=['case_no'], values='RESULT_NUMERIC', columns='MEASURE_GROUP')\n",
    "mean_pivot_measures_df = mean_pivot_measures_df.add_suffix('_mean')"
   ],
   "metadata": {
    "collapsed": false,
    "is_executing": true
   }
  },
  {
   "cell_type": "code",
   "execution_count": 122,
   "outputs": [],
   "source": [
    "std_pivot_measures_df = merged_measures.pivot_table(index=['case_no', 'MEASURE_GROUP'], values='RESULT_NUMERIC', aggfunc='std').reset_index()\n",
    "std_pivot_measures_df = std_pivot_measures_df.pivot_table(index=['case_no'], values='RESULT_NUMERIC', columns='MEASURE_GROUP')\n",
    "std_pivot_measures_df = std_pivot_measures_df.add_suffix('_std')"
   ],
   "metadata": {
    "collapsed": false,
    "ExecuteTime": {
     "end_time": "2023-11-17T13:02:04.223239Z",
     "start_time": "2023-11-17T13:02:04.214337Z"
    }
   }
  },
  {
   "cell_type": "code",
   "execution_count": null,
   "outputs": [],
   "source": [
    "min_measurements = merged_measures.groupby(['case_no', 'MEASURE_GROUP'], as_index=False).min()\n",
    "min_pivot_measures_df = min_measurements.pivot_table(index=['case_no'], values='RESULT_NUMERIC', columns='MEASURE_GROUP')\n",
    "min_pivot_measures_df = min_pivot_measures_df.add_suffix('_min')"
   ],
   "metadata": {
    "collapsed": false,
    "is_executing": true
   }
  },
  {
   "cell_type": "code",
   "execution_count": null,
   "outputs": [],
   "source": [
    "max_measurements = merged_measures.groupby(['case_no', 'MEASURE_GROUP'], as_index=False).max()\n",
    "max_pivot_measures_df = max_measurements.pivot_table(index=['case_no'], values='RESULT_NUMERIC', columns='MEASURE_GROUP')\n",
    "max_pivot_measures_df = max_pivot_measures_df.add_suffix('_max')"
   ],
   "metadata": {
    "collapsed": false,
    "is_executing": true
   }
  },
  {
   "cell_type": "code",
   "execution_count": 125,
   "outputs": [],
   "source": [
    "# systolic-diastolic more features\n",
    "df_filtered = merged_measures[merged_measures['MEASURE_NAME'].isin(['סיסטולי', 'דיאסטולי'])]\n",
    "pivot_table = df_filtered.pivot_table(index=['case_no', 'MEASURE_TIME'], columns='MEASURE_NAME', values='RESULT_NUMERIC').reset_index()\n",
    "pivot_table['sys_dias_diff'] = pivot_table['סיסטולי'] - pivot_table['דיאסטולי']\n",
    "pivot_table['MAP'] = ((pivot_table['סיסטולי'] * 2) + (pivot_table['דיאסטולי'])) / 3\n",
    "sys_dias_diff = pivot_table[['case_no', 'sys_dias_diff', 'MAP']]\n",
    "minimum_diff = sys_dias_diff.groupby(['case_no'])['sys_dias_diff'].min().reset_index().rename(columns={'sys_dias_diff': 'sys_dias_diff_min'})\n",
    "maximum_diff = sys_dias_diff.groupby(['case_no'])['sys_dias_diff'].max().reset_index().rename(columns={'sys_dias_diff': 'sys_dias_diff_max'})\n",
    "mean_diff = sys_dias_diff.groupby(['case_no'])['sys_dias_diff'].mean().reset_index().rename(columns={'sys_dias_diff': 'sys_dias_diff_mean'})"
   ],
   "metadata": {
    "collapsed": false,
    "ExecuteTime": {
     "end_time": "2023-11-17T13:02:22.908210Z",
     "start_time": "2023-11-17T13:02:22.610353Z"
    }
   }
  },
  {
   "cell_type": "code",
   "execution_count": null,
   "outputs": [],
   "source": [
    "# merge all tables\n",
    "merged_measures_df = pd.merge(first_pivot_measures_df, last_pivot_measures_df, on='case_no', how='outer')\n",
    "merged_measures_df = pd.merge(merged_measures_df, mean_pivot_measures_df, on='case_no', how='outer')\n",
    "merged_measures_df = pd.merge(merged_measures_df, min_pivot_measures_df, on='case_no', how='outer')\n",
    "merged_measures_df = pd.merge(merged_measures_df, max_pivot_measures_df, on='case_no', how='outer')\n",
    "merged_measures_df = pd.merge(merged_measures_df, std_pivot_measures_df, on='case_no', how='outer')\n",
    "merged_measures_df = pd.merge(merged_measures_df, minimum_diff, on='case_no', how='outer')\n",
    "merged_measures_df = pd.merge(merged_measures_df, maximum_diff, on='case_no', how='outer')\n",
    "merged_measures_df = pd.merge(merged_measures_df, mean_diff, on='case_no', how='outer')"
   ],
   "metadata": {
    "collapsed": false,
    "is_executing": true
   }
  },
  {
   "cell_type": "code",
   "execution_count": 127,
   "outputs": [],
   "source": [
    "merged_measures_df.to_csv('data_for_model/measurements_df.csv')"
   ],
   "metadata": {
    "collapsed": false,
    "ExecuteTime": {
     "end_time": "2023-11-17T13:02:23.449365Z",
     "start_time": "2023-11-17T13:02:22.877796Z"
    }
   }
  },
  {
   "cell_type": "markdown",
   "source": [
    "## Lungs"
   ],
   "metadata": {
    "collapsed": false
   }
  },
  {
   "cell_type": "code",
   "execution_count": 137,
   "outputs": [],
   "source": [
    "lungs_feats_df = filtered_lungs_df[['case_no', 'Lungs_Good_Air_Intake', 'Lungs_Reduced_Air_Intake', 'Lungs_Moist_Crackles', 'Lungs_Wheezing', 'Lungs_Bronchial_Breathing', 'Lungs_Opacity_Knocks', 'Lungs_Elongated_Akspirium']]\n",
    "# if there is a case no with 1 and 0, it takes the 1\n",
    "lungs_feats_df = lungs_feats_df.groupby('case_no').agg('max').reset_index()"
   ],
   "metadata": {
    "collapsed": false,
    "ExecuteTime": {
     "end_time": "2023-10-26T08:56:03.714603Z",
     "start_time": "2023-10-26T08:56:03.660139Z"
    }
   }
  },
  {
   "cell_type": "code",
   "execution_count": 138,
   "outputs": [],
   "source": [
    "lungs_feats_df.to_csv('data_for_model/lungs_df.csv')"
   ],
   "metadata": {
    "collapsed": false,
    "ExecuteTime": {
     "end_time": "2023-10-26T08:56:04.143457Z",
     "start_time": "2023-10-26T08:56:04.114202Z"
    }
   }
  },
  {
   "cell_type": "markdown",
   "source": [
    "## Limbs"
   ],
   "metadata": {
    "collapsed": false
   }
  },
  {
   "cell_type": "code",
   "execution_count": 95,
   "outputs": [],
   "source": [
    "limbs_feats_df = filtered_limbs_df[['case_no', 'LIMBS_Without_Peripheral_Edema', 'LIMBS_Peripheral_Edema', 'LIMBS_PLACE']]\n",
    "# if there is a case no with 1 and 0, it takes the 1\n",
    "limbs_feats_df = limbs_feats_df.groupby('case_no').agg('max').reset_index()"
   ],
   "metadata": {
    "collapsed": false,
    "ExecuteTime": {
     "end_time": "2023-10-26T08:46:54.820319Z",
     "start_time": "2023-10-26T08:46:54.721019Z"
    }
   }
  },
  {
   "cell_type": "code",
   "execution_count": 98,
   "outputs": [],
   "source": [
    "limbs_feats_df.to_csv('data_for_model/limbs_df.csv')"
   ],
   "metadata": {
    "collapsed": false,
    "ExecuteTime": {
     "end_time": "2023-10-26T08:47:30.675799Z",
     "start_time": "2023-10-26T08:47:30.607799Z"
    }
   }
  },
  {
   "cell_type": "markdown",
   "source": [
    "## Jugular"
   ],
   "metadata": {
    "collapsed": false
   }
  },
  {
   "cell_type": "code",
   "execution_count": 99,
   "outputs": [],
   "source": [
    "jugular_feats_df = filtered_jugular_df.drop(columns=['patient_id', 'time_from_admission', 'admission_time', 'PhysicalTests_TIME',\n",
    "                                                     'PhysicalTests_DEPT_id', 'JugularVeins_Not_proper_Remarks', 'JugularVeins_Details',\n",
    "                                                     'JugularVeins_Not_proper_There_is_congestion_Vreede',\n",
    "                                                     'JugularVeins_Not_proper_Evaluation_of_venous_pressure',\n",
    "                                                     'JugularVeins_Not_proper_The_phto_jugular_reflex'])\n",
    "# if there is a case no with 1 and 0, it takes the 1\n",
    "jugular_feats_df = jugular_feats_df.groupby('case_no').agg('max').reset_index()"
   ],
   "metadata": {
    "collapsed": false,
    "ExecuteTime": {
     "end_time": "2023-10-26T08:47:32.314516Z",
     "start_time": "2023-10-26T08:47:32.305043Z"
    }
   }
  },
  {
   "cell_type": "code",
   "execution_count": 100,
   "outputs": [],
   "source": [
    "jugular_feats_df.to_csv('data_for_model/jugular_df.csv')"
   ],
   "metadata": {
    "collapsed": false,
    "ExecuteTime": {
     "end_time": "2023-10-26T08:47:32.614964Z",
     "start_time": "2023-10-26T08:47:32.604176Z"
    }
   }
  },
  {
   "cell_type": "markdown",
   "source": [
    "## Diagnosis"
   ],
   "metadata": {
    "collapsed": false
   }
  },
  {
   "cell_type": "code",
   "execution_count": null,
   "outputs": [],
   "source": [
    "diag_feats_df = filtered_diag_df[['case_no', 'DIAG_CODE', 'DESCRIPTION']]\n",
    "diag_feats_df.drop_duplicates(inplace=True)\n",
    "diag_groups = pd.read_excel('diag_groups.xlsx')"
   ],
   "metadata": {
    "collapsed": false,
    "is_executing": true
   }
  },
  {
   "cell_type": "code",
   "execution_count": 75,
   "outputs": [],
   "source": [
    "diag_counts = diag_feats_df['DESCRIPTION'].value_counts().reset_index().rename(columns={'DESCRIPTION' : 'count', 'index': 'DESCRIPTION'})\n",
    "diag_names = diag_counts.loc[diag_counts['count'] > 50]['DESCRIPTION']\n",
    "diag_feats_df = diag_feats_df.loc[diag_feats_df['DESCRIPTION'].isin(diag_names)]"
   ],
   "metadata": {
    "collapsed": false,
    "ExecuteTime": {
     "end_time": "2023-11-16T13:00:04.662274Z",
     "start_time": "2023-11-16T13:00:04.556444Z"
    }
   }
  },
  {
   "cell_type": "code",
   "execution_count": null,
   "outputs": [],
   "source": [
    "merged_diag = pd.merge(diag_feats_df, diag_groups, on='DESCRIPTION', how='left')"
   ],
   "metadata": {
    "collapsed": false,
    "is_executing": true
   }
  },
  {
   "cell_type": "code",
   "execution_count": 77,
   "outputs": [],
   "source": [
    "diag_dummies = pd.get_dummies(merged_diag[['case_no', 'DIAG_GROUP']], columns=['DIAG_GROUP'], dtype=int)\n",
    "diag_dummies = diag_dummies.groupby('case_no').agg('sum').reset_index()"
   ],
   "metadata": {
    "collapsed": false,
    "ExecuteTime": {
     "end_time": "2023-11-16T13:00:10.147584Z",
     "start_time": "2023-11-16T13:00:10.080246Z"
    }
   }
  },
  {
   "cell_type": "code",
   "execution_count": 79,
   "outputs": [],
   "source": [
    "diag_dummies.to_csv('data_for_model/diag_df.csv')"
   ],
   "metadata": {
    "collapsed": false,
    "ExecuteTime": {
     "end_time": "2023-11-16T13:00:14.306799Z",
     "start_time": "2023-11-16T13:00:14.125155Z"
    }
   }
  },
  {
   "cell_type": "markdown",
   "source": [
    "## Labs"
   ],
   "metadata": {
    "collapsed": false
   }
  },
  {
   "cell_type": "code",
   "execution_count": 128,
   "outputs": [
    {
     "name": "stdout",
     "output_type": "stream",
     "text": [
      "CPU times: user 4.63 s, sys: 439 ms, total: 5.07 s\n",
      "Wall time: 5.46 s\n"
     ]
    }
   ],
   "source": [
    "%%time\n",
    "# taking specific lab tests that relevant to AKI\n",
    "filtered_labs_df['case_no'] = filtered_labs_df['case_no'].astype(str)\n",
    "filtered_labs_df = filtered_labs_df.loc[(filtered_labs_df['LAB_EXAMINATION_NAME'].str.contains('urine')) | (filtered_labs_df['LAB_EXAMINATION_NAME'].str.contains('Creatinine')) | (filtered_labs_df['LAB_EXAMINATION_NAME'].str.contains('BUN')) |\n",
    "(filtered_labs_df['LAB_EXAMINATION_NAME'].str.contains('Albumin')) | (filtered_labs_df['LAB_EXAMINATION_NAME'].str.contains('BNP')) |\n",
    "(filtered_labs_df['LAB_EXAMINATION_NAME'].str.contains('LDL')) | (filtered_labs_df['LAB_EXAMINATION_NAME'].str.contains('Chlorid'))\n",
    "| (filtered_labs_df['LAB_EXAMINATION_NAME'].str.contains('RDW')) | (filtered_labs_df['LAB_EXAMINATION_NAME'].str.contains('Furosemide')) |\n",
    "(filtered_labs_df['LAB_EXAMINATION_NAME'].str.contains('CBC')) |(filtered_labs_df['LAB_EXAMINATION_NAME'].str.contains('HDL')) |\n",
    "(filtered_labs_df['LAB_EXAMINATION_NAME'].str.contains('Triglycerides')) | (filtered_labs_df['LAB_EXAMINATION_NAME'].str.contains('Cholesterol')) |\n",
    "(filtered_labs_df['LAB_EXAMINATION_NAME'].str.contains('CK')) | (filtered_labs_df['LAB_EXAMINATION_NAME'].str.contains('Potassium')) | (filtered_labs_df['LAB_EXAMINATION_NAME'] == 'Glucose-BL') |(filtered_labs_df['LAB_EXAMINATION_NAME'].str.contains('Sodium')) | (filtered_labs_df['LAB_EXAMINATION_NAME'] == 'Calcium-BL') | (filtered_labs_df['LAB_EXAMINATION_NAME'] == 'WBC') | (filtered_labs_df['LAB_EXAMINATION_NAME'].str.contains('Troponin'))\n",
    "| (filtered_labs_df['LAB_EXAMINATION_NAME'].str.contains('Glucose-UR'))]"
   ],
   "metadata": {
    "collapsed": false,
    "ExecuteTime": {
     "end_time": "2023-11-17T13:02:33.123674Z",
     "start_time": "2023-11-17T13:02:27.600364Z"
    }
   }
  },
  {
   "cell_type": "code",
   "execution_count": null,
   "outputs": [],
   "source": [
    "first_labs = filtered_labs_df.groupby(['case_no', 'LAB_EXAMINATION_NAME'], as_index=False).first()\n",
    "first_pivot_labs_df = first_labs.pivot_table(index=['case_no'], values='exam_numeric_result', columns='LAB_EXAMINATION_NAME')\n",
    "first_pivot_labs_df = first_pivot_labs_df.add_suffix('_first')\n",
    "# remove columns with less than 50 values\n",
    "first_counts = first_pivot_labs_df.notna().sum().reset_index()\n",
    "cols = first_counts.loc[first_counts[0] >= 50]['LAB_EXAMINATION_NAME']\n",
    "first_pivot_labs_df = first_pivot_labs_df[cols]"
   ],
   "metadata": {
    "collapsed": false,
    "is_executing": true
   }
  },
  {
   "cell_type": "code",
   "execution_count": null,
   "outputs": [],
   "source": [
    "last_labs = filtered_labs_df.groupby(['case_no', 'LAB_EXAMINATION_NAME'], as_index=False).last()\n",
    "last_pivot_labs_df = last_labs.pivot_table(index=['case_no'], values='exam_numeric_result', columns='LAB_EXAMINATION_NAME')\n",
    "last_pivot_labs_df = last_pivot_labs_df.add_suffix('_last')\n",
    "# remove columns with less than 50 values\n",
    "last_counts = last_pivot_labs_df.notna().sum().reset_index()\n",
    "cols = last_counts.loc[last_counts[0] >= 50]['LAB_EXAMINATION_NAME']\n",
    "last_pivot_labs_df = last_pivot_labs_df[cols]"
   ],
   "metadata": {
    "collapsed": false,
    "is_executing": true
   }
  },
  {
   "cell_type": "code",
   "execution_count": null,
   "outputs": [],
   "source": [
    "mean_pivot_labs_df = filtered_labs_df.pivot_table(index=['case_no', 'LAB_EXAMINATION_NAME'], values='exam_numeric_result', aggfunc='mean').reset_index()\n",
    "mean_pivot_labs_df = mean_pivot_labs_df.pivot_table(index=['case_no'], values='exam_numeric_result', columns='LAB_EXAMINATION_NAME')\n",
    "mean_pivot_labs_df = mean_pivot_labs_df.add_suffix('_mean')\n",
    "mean_counts = mean_pivot_labs_df.notna().sum().reset_index()\n",
    "cols = mean_counts.loc[mean_counts[0] >= 50]['LAB_EXAMINATION_NAME']\n",
    "mean_pivot_labs_df = mean_pivot_labs_df[cols]"
   ],
   "metadata": {
    "collapsed": false,
    "is_executing": true
   }
  },
  {
   "cell_type": "code",
   "execution_count": 133,
   "outputs": [],
   "source": [
    "std_pivot_labs_df = filtered_labs_df.pivot_table(index=['case_no', 'LAB_EXAMINATION_NAME'], values='exam_numeric_result', aggfunc='std').reset_index()\n",
    "std_pivot_labs_df = std_pivot_labs_df.pivot_table(index=['case_no'], values='exam_numeric_result', columns='LAB_EXAMINATION_NAME')\n",
    "std_pivot_labs_df = std_pivot_labs_df.add_suffix('_std')\n",
    "std_counts = std_pivot_labs_df.notna().sum().reset_index()\n",
    "cols = std_counts.loc[std_counts[0] >= 50]['LAB_EXAMINATION_NAME']\n",
    "std_pivot_labs_df = std_pivot_labs_df[cols]"
   ],
   "metadata": {
    "collapsed": false,
    "ExecuteTime": {
     "end_time": "2023-11-17T13:02:34.043535Z",
     "start_time": "2023-11-17T13:02:33.935469Z"
    }
   }
  },
  {
   "cell_type": "code",
   "execution_count": null,
   "outputs": [],
   "source": [
    "max_pivot_labs_df = filtered_labs_df.pivot_table(index=['case_no', 'LAB_EXAMINATION_NAME'], values='exam_numeric_result', aggfunc='max').reset_index()\n",
    "max_pivot_labs_df = max_pivot_labs_df.pivot_table(index=['case_no'], values='exam_numeric_result', columns='LAB_EXAMINATION_NAME')\n",
    "max_pivot_labs_df = max_pivot_labs_df.add_suffix('_max')\n",
    "max_counts = max_pivot_labs_df.notna().sum().reset_index()\n",
    "cols = max_counts.loc[max_counts[0] >= 50]['LAB_EXAMINATION_NAME']\n",
    "max_pivot_labs_df = max_pivot_labs_df[cols]"
   ],
   "metadata": {
    "collapsed": false,
    "is_executing": true
   }
  },
  {
   "cell_type": "code",
   "execution_count": null,
   "outputs": [],
   "source": [
    "min_pivot_labs_df = filtered_labs_df.pivot_table(index=['case_no', 'LAB_EXAMINATION_NAME'], values='exam_numeric_result', aggfunc='min').reset_index()\n",
    "min_pivot_labs_df = min_pivot_labs_df.pivot_table(index=['case_no'], values='exam_numeric_result', columns='LAB_EXAMINATION_NAME')\n",
    "min_pivot_labs_df = min_pivot_labs_df.add_suffix('_min')\n",
    "min_counts = min_pivot_labs_df.notna().sum().reset_index()\n",
    "cols = min_counts.loc[min_counts[0] >= 50]['LAB_EXAMINATION_NAME']\n",
    "min_pivot_labs_df = min_pivot_labs_df[cols]"
   ],
   "metadata": {
    "collapsed": false,
    "is_executing": true
   }
  },
  {
   "cell_type": "code",
   "execution_count": null,
   "outputs": [],
   "source": [
    "# merge all tables\n",
    "merged_labs_df = pd.merge(first_pivot_labs_df, last_pivot_labs_df, on='case_no', how='outer')\n",
    "merged_labs_df = pd.merge(merged_labs_df, mean_pivot_labs_df, on='case_no', how='outer')\n",
    "merged_labs_df = pd.merge(merged_labs_df, std_pivot_labs_df, on='case_no', how='outer')\n",
    "merged_labs_df = pd.merge(merged_labs_df, max_pivot_labs_df, on='case_no', how='outer')\n",
    "merged_labs_df = pd.merge(merged_labs_df, min_pivot_labs_df, on='case_no', how='outer')"
   ],
   "metadata": {
    "collapsed": false,
    "is_executing": true
   }
  },
  {
   "cell_type": "code",
   "execution_count": 137,
   "outputs": [],
   "source": [
    "merged_labs_df.to_csv('data_for_model/labs_df.csv')"
   ],
   "metadata": {
    "collapsed": false,
    "ExecuteTime": {
     "end_time": "2023-11-17T13:02:41.775357Z",
     "start_time": "2023-11-17T13:02:41.070235Z"
    }
   }
  },
  {
   "cell_type": "markdown",
   "source": [
    "# Drugs"
   ],
   "metadata": {
    "collapsed": false
   }
  },
  {
   "cell_type": "code",
   "execution_count": null,
   "outputs": [],
   "source": [
    "drugs_info = pd.read_excel('data/Dataset description_CHF.xlsx', sheet_name=14, header=1)\n",
    "drugs_groups = drugs_info[['Medication brand name', 'Mapped ATC code', 'Anatomical main group (ATC1)']]\n",
    "drugs_groups.rename(columns={'Medication brand name': 'DRUG_COMMERCIAL_NAME'}, inplace=True)"
   ],
   "metadata": {
    "collapsed": false,
    "is_executing": true
   }
  },
  {
   "cell_type": "code",
   "execution_count": null,
   "outputs": [],
   "source": [
    "filtered_drug_med_df['case_no'] = filtered_drug_med_df['case_no'].astype(str)\n",
    "filtered_med_df_with_groups = pd.merge(drugs_groups, filtered_drug_med_df, on='DRUG_COMMERCIAL_NAME', how='right')"
   ],
   "metadata": {
    "collapsed": false,
    "is_executing": true
   }
  },
  {
   "cell_type": "code",
   "execution_count": null,
   "outputs": [],
   "source": [
    "filtered_adm_df_with_groups = pd.merge(drugs_groups, filtered_drug_adm_df, on='DRUG_COMMERCIAL_NAME', how='right')\n",
    "filtered_adm_df_with_groups.rename(columns={'CASE_NO': 'case_no'}, inplace=True)"
   ],
   "metadata": {
    "collapsed": false,
    "is_executing": true
   }
  },
  {
   "cell_type": "code",
   "execution_count": null,
   "outputs": [],
   "source": [
    "filtered_recom_df_with_groups = pd.merge(drugs_groups, filtered_drug_recom_df, on='DRUG_COMMERCIAL_NAME', how='right')"
   ],
   "metadata": {
    "collapsed": false,
    "is_executing": true
   }
  },
  {
   "cell_type": "code",
   "execution_count": 246,
   "outputs": [],
   "source": [
    "filtered_med_df_with_groups = filtered_med_df_with_groups[['case_no', 'Anatomical main group (ATC1)']].rename(columns={'Anatomical main group (ATC1)': 'MED_GROUP'})\n",
    "filtered_adm_df_with_groups = filtered_adm_df_with_groups[['case_no', 'Anatomical main group (ATC1)']].rename(columns={'Anatomical main group (ATC1)': 'MED_GROUP'})"
   ],
   "metadata": {
    "collapsed": false,
    "ExecuteTime": {
     "end_time": "2023-10-26T17:44:24.486593Z",
     "start_time": "2023-10-26T17:44:24.073022Z"
    }
   }
  },
  {
   "cell_type": "code",
   "execution_count": null,
   "outputs": [],
   "source": [
    "filtered_adm_df_with_groups.rename(columns={'Anatomical main group (ATC1)': 'MED_GROUP'}, inplace=True)"
   ],
   "metadata": {
    "collapsed": false,
    "is_executing": true
   }
  },
  {
   "cell_type": "code",
   "execution_count": 248,
   "outputs": [],
   "source": [
    "med_df_dummies = pd.get_dummies(filtered_med_df_with_groups, columns=['MED_GROUP'], dtype=int)\n",
    "med_df_dummies = med_df_dummies.groupby('case_no').agg('sum').reset_index()"
   ],
   "metadata": {
    "collapsed": false,
    "ExecuteTime": {
     "end_time": "2023-10-26T17:44:25.896663Z",
     "start_time": "2023-10-26T17:44:25.513171Z"
    }
   }
  },
  {
   "cell_type": "code",
   "execution_count": 249,
   "outputs": [],
   "source": [
    "adm_df_dummies = pd.get_dummies(filtered_adm_df_with_groups, columns=['MED_GROUP'], dtype=int)\n",
    "adm_df_dummies = adm_df_dummies.groupby('case_no').agg('sum').reset_index()"
   ],
   "metadata": {
    "collapsed": false,
    "ExecuteTime": {
     "end_time": "2023-10-26T17:44:26.623991Z",
     "start_time": "2023-10-26T17:44:26.346575Z"
    }
   }
  },
  {
   "cell_type": "code",
   "execution_count": 250,
   "outputs": [],
   "source": [
    "merged_df = pd.merge(med_df_dummies, adm_df_dummies, on='case_no', how='right')"
   ],
   "metadata": {
    "collapsed": false,
    "ExecuteTime": {
     "end_time": "2023-10-26T17:44:26.682345Z",
     "start_time": "2023-10-26T17:44:26.619267Z"
    }
   }
  },
  {
   "cell_type": "code",
   "execution_count": 251,
   "outputs": [],
   "source": [
    "merged_df['MED_GROUP_Not specified'] = merged_df['MED_GROUP_Not specified_x'] + merged_df['MED_GROUP_Not specified_y']\n",
    "merged_df['MED_GROUP_alimentary tract and metabolism'] = merged_df['MED_GROUP_alimentary tract and metabolism_x'] + merged_df['MED_GROUP_alimentary tract and metabolism_y']\n",
    "merged_df['MED_GROUP_alimentary tract and metabolism ; blood and blood forming organs'] = merged_df['MED_GROUP_alimentary tract and metabolism ; blood and blood forming organs_x'] + merged_df['MED_GROUP_alimentary tract and metabolism ; blood and blood forming organs_y']\n",
    "merged_df['MED_GROUP_antiinfectives for systemic use'] = merged_df['MED_GROUP_antiinfectives for systemic use_x'] + merged_df['MED_GROUP_antiinfectives for systemic use_y']\n",
    "merged_df['MED_GROUP_antineoplastic and immunomodulating agents'] = merged_df['MED_GROUP_antineoplastic and immunomodulating agents_x'] + merged_df['MED_GROUP_antineoplastic and immunomodulating agents_y']\n",
    "merged_df['MED_GROUP_blood and blood forming organs'] = merged_df['MED_GROUP_blood and blood forming organs_x'] + merged_df['MED_GROUP_blood and blood forming organs_y']\n",
    "merged_df['MED_GROUP_cardiovascular system'] = merged_df['MED_GROUP_cardiovascular system_x'] + merged_df['MED_GROUP_cardiovascular system_y']\n",
    "merged_df['MED_GROUP_genito-urinary system and sex hormones'] = merged_df['MED_GROUP_genito-urinary system and sex hormones_x'] + merged_df['MED_GROUP_genito-urinary system and sex hormones_y']\n",
    "merged_df['MED_GROUP_nervous system'] = merged_df['MED_GROUP_nervous system_x'] + merged_df['MED_GROUP_nervous system_y']\n",
    "merged_df['MED_GROUP_respiratory system'] = merged_df['MED_GROUP_respiratory system_x'] + merged_df['MED_GROUP_respiratory system_y']\n",
    "merged_df['MED_GROUP_systemic hormonal preparations, excluding sex hormones and insulins'] = merged_df['MED_GROUP_systemic hormonal preparations, excluding sex hormones and insulins_x'] + merged_df['MED_GROUP_systemic hormonal preparations, excluding sex hormones and insulins_y']\n",
    "merged_df['MED_GROUP_various'] = merged_df['MED_GROUP_various_x'] + merged_df['MED_GROUP_various_y']"
   ],
   "metadata": {
    "collapsed": false,
    "ExecuteTime": {
     "end_time": "2023-10-26T17:44:27.196635Z",
     "start_time": "2023-10-26T17:44:27.179433Z"
    }
   }
  },
  {
   "cell_type": "code",
   "execution_count": 254,
   "outputs": [],
   "source": [
    "cols_to_remove = ['MED_GROUP_Not specified_x', 'MED_GROUP_Not specified_y',\n",
    "                  'MED_GROUP_alimentary tract and metabolism ; blood and blood forming organs_x',\n",
    "                  'MED_GROUP_alimentary tract and metabolism ; blood and blood forming organs_y',\n",
    "                  'MED_GROUP_antiinfectives for systemic use_x',\n",
    "                  'MED_GROUP_antiinfectives for systemic use_y',\n",
    "                  'MED_GROUP_antineoplastic and immunomodulating agents_x',\n",
    "                  'MED_GROUP_antineoplastic and immunomodulating agents_y',\n",
    "                  'MED_GROUP_blood and blood forming organs_x',\n",
    "                  'MED_GROUP_blood and blood forming organs_y',\n",
    "                  'MED_GROUP_cardiovascular system_x',\n",
    "                  'MED_GROUP_cardiovascular system_y',\n",
    "                  'MED_GROUP_genito-urinary system and sex hormones_x',\n",
    "                  'MED_GROUP_genito-urinary system and sex hormones_y',\n",
    "                  'MED_GROUP_nervous system_x', 'MED_GROUP_nervous system_y',\n",
    "                  'MED_GROUP_respiratory system_x', 'MED_GROUP_respiratory system_y',\n",
    "                  'MED_GROUP_systemic hormonal preparations, excluding sex hormones and insulins_x',\n",
    "                  'MED_GROUP_systemic hormonal preparations, excluding sex hormones and insulins_y',\n",
    "                 'MED_GROUP_various_x', 'MED_GROUP_various_y',\n",
    "                  'MED_GROUP_alimentary tract and metabolism_x', 'MED_GROUP_alimentary tract and metabolism_y',\n",
    "                  'MED_GROUP_Not specified', 'MED_GROUP_various',\n",
    "                  'MED_GROUP_pending review']"
   ],
   "metadata": {
    "collapsed": false,
    "ExecuteTime": {
     "end_time": "2023-10-26T17:47:18.507112Z",
     "start_time": "2023-10-26T17:47:18.424227Z"
    }
   }
  },
  {
   "cell_type": "code",
   "execution_count": 255,
   "outputs": [],
   "source": [
    "merged_df.drop(columns=cols_to_remove, inplace=True)\n",
    "merged_df.fillna(0, inplace=True)"
   ],
   "metadata": {
    "collapsed": false,
    "ExecuteTime": {
     "end_time": "2023-10-26T17:47:18.778388Z",
     "start_time": "2023-10-26T17:47:18.718294Z"
    }
   }
  },
  {
   "cell_type": "code",
   "execution_count": 256,
   "outputs": [],
   "source": [
    "percentage_of_zeros = ((merged_df == 0).mean() * 100).reset_index()\n",
    "cols_to_remain = percentage_of_zeros.loc[percentage_of_zeros[0] < 99]['index'].tolist()\n",
    "merged_df = merged_df[cols_to_remain]"
   ],
   "metadata": {
    "collapsed": false,
    "ExecuteTime": {
     "end_time": "2023-10-26T17:47:19.759888Z",
     "start_time": "2023-10-26T17:47:19.728967Z"
    }
   }
  },
  {
   "cell_type": "code",
   "execution_count": 136,
   "outputs": [],
   "source": [
    "merged_df.to_csv('data_for_model/med_df.csv')"
   ],
   "metadata": {
    "collapsed": false,
    "ExecuteTime": {
     "end_time": "2023-10-26T08:55:16.623869Z",
     "start_time": "2023-10-26T08:55:16.584354Z"
    }
   }
  }
 ],
 "metadata": {
  "kernelspec": {
   "display_name": "Python 3",
   "language": "python",
   "name": "python3"
  },
  "language_info": {
   "codemirror_mode": {
    "name": "ipython",
    "version": 2
   },
   "file_extension": ".py",
   "mimetype": "text/x-python",
   "name": "python",
   "nbconvert_exporter": "python",
   "pygments_lexer": "ipython2",
   "version": "2.7.6"
  }
 },
 "nbformat": 4,
 "nbformat_minor": 0
}
