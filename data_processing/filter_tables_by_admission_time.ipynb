{
 "cells": [
  {
   "cell_type": "markdown",
   "source": [
    "## Imports"
   ],
   "metadata": {
    "collapsed": false
   }
  },
  {
   "cell_type": "code",
   "execution_count": 2,
   "outputs": [],
   "source": [
    "import pandas as pd\n",
    "from typing import *\n",
    "from datetime import datetime, timedelta"
   ],
   "metadata": {
    "collapsed": false,
    "ExecuteTime": {
     "end_time": "2023-11-09T08:39:02.086964Z",
     "start_time": "2023-11-09T08:39:01.550405Z"
    }
   }
  },
  {
   "cell_type": "markdown",
   "source": [
    "## Functions"
   ],
   "metadata": {
    "collapsed": false
   }
  },
  {
   "cell_type": "code",
   "execution_count": 3,
   "outputs": [],
   "source": [
    "def to_dates(df: pd.DataFrame, cols: List[str]) -> pd.DataFrame:\n",
    "    \"\"\"Gets dataframe and specific columns and convert the columns type to DateTime\"\"\"\n",
    "    for col in cols:\n",
    "        df[col] = pd.to_datetime(df[col], format='mixed')\n",
    "    return df"
   ],
   "metadata": {
    "collapsed": false,
    "ExecuteTime": {
     "end_time": "2023-11-09T08:39:02.091835Z",
     "start_time": "2023-11-09T08:39:02.083431Z"
    }
   }
  },
  {
   "cell_type": "code",
   "execution_count": 4,
   "outputs": [],
   "source": [
    "def filter_table(df: pd.DataFrame, time_col: str, drugs_or_diagnosis: bool=False) -> pd.DataFrame:\n",
    "    \"\"\"filter the table according the admission time, in order to remain with the measurements from the first 24h\"\"\"\n",
    "    df = pd.merge(dates_labeled_df[['case_no', 'admission_time']], df, on=['case_no'], how='left')\n",
    "    if not drugs_or_diagnosis:\n",
    "        df['time_from_admission'] = df[time_col] - df['admission_time']\n",
    "        one_day = timedelta(days=1)\n",
    "        df = df.loc[df['time_from_admission'] <= one_day]\n",
    "    else:\n",
    "        df = df.loc[df[time_col] < df['admission_time'].dt.date]\n",
    "    return df"
   ],
   "metadata": {
    "collapsed": false,
    "ExecuteTime": {
     "end_time": "2023-11-09T08:39:02.359632Z",
     "start_time": "2023-11-09T08:39:02.344566Z"
    }
   }
  },
  {
   "cell_type": "markdown",
   "source": [
    "## Read data"
   ],
   "metadata": {
    "collapsed": false
   }
  },
  {
   "cell_type": "code",
   "execution_count": 4,
   "outputs": [],
   "source": [
    "aki_admission_df = pd.read_csv('labels/aki_admission.csv', index_col=0)\n",
    "no_aki_admission_df = pd.read_csv('labels/no_aki_admission.csv', index_col=0)"
   ],
   "metadata": {
    "collapsed": false,
    "ExecuteTime": {
     "end_time": "2023-10-14T14:09:38.044419Z",
     "start_time": "2023-10-14T14:09:37.697879Z"
    }
   }
  },
  {
   "cell_type": "markdown",
   "source": [
    "## Concat tables and add label"
   ],
   "metadata": {
    "collapsed": false
   }
  },
  {
   "cell_type": "code",
   "execution_count": 5,
   "outputs": [],
   "source": [
    "aki_admission_df['label'] = 1\n",
    "no_aki_admission_df['label'] = 0"
   ],
   "metadata": {
    "collapsed": false,
    "ExecuteTime": {
     "end_time": "2023-10-14T14:09:39.020039Z",
     "start_time": "2023-10-14T14:09:38.986660Z"
    }
   }
  },
  {
   "cell_type": "code",
   "execution_count": null,
   "outputs": [],
   "source": [
    "dates_labeled_df = pd.concat([aki_admission_df, no_aki_admission_df])\n",
    "dates_labeled_df = to_dates(dates_labeled_df, ['admission_time'])"
   ],
   "metadata": {
    "collapsed": false,
    "is_executing": true
   }
  },
  {
   "cell_type": "code",
   "execution_count": 7,
   "outputs": [
    {
     "data": {
      "text/plain": "label\n0    11878\n1     4608\nName: count, dtype: int64"
     },
     "execution_count": 7,
     "metadata": {},
     "output_type": "execute_result"
    }
   ],
   "source": [
    "dates_labeled_df['label'].value_counts()"
   ],
   "metadata": {
    "collapsed": false,
    "ExecuteTime": {
     "end_time": "2023-10-14T14:09:44.699979Z",
     "start_time": "2023-10-14T14:09:44.689899Z"
    }
   }
  },
  {
   "cell_type": "markdown",
   "source": [
    "## Physical tests Jugular Vein"
   ],
   "metadata": {
    "collapsed": false
   }
  },
  {
   "cell_type": "code",
   "execution_count": 5,
   "outputs": [],
   "source": [
    "jugular_vein_df = pd.read_csv('data/Physical_Tests_JugularVeins.csv')\n",
    "jugular_vein_df = to_dates(jugular_vein_df, ['PhysicalTests_TIME'])"
   ],
   "metadata": {
    "collapsed": false,
    "ExecuteTime": {
     "end_time": "2023-11-09T08:39:08.573474Z",
     "start_time": "2023-11-09T08:39:08.508335Z"
    }
   }
  },
  {
   "cell_type": "code",
   "execution_count": 18,
   "outputs": [],
   "source": [
    "filtered_jugular_df = filter_table(jugular_vein_df, 'PhysicalTests_TIME')"
   ],
   "metadata": {
    "collapsed": false,
    "ExecuteTime": {
     "end_time": "2023-10-11T13:00:03.058188Z",
     "start_time": "2023-10-11T13:00:02.977061Z"
    }
   }
  },
  {
   "cell_type": "markdown",
   "source": [
    "## Physical tests limbs"
   ],
   "metadata": {
    "collapsed": false
   }
  },
  {
   "cell_type": "code",
   "execution_count": 19,
   "outputs": [],
   "source": [
    "limbs_df = pd.read_csv('data/Physical_Tests_Limbs.csv')\n",
    "limbs_df = to_dates(limbs_df, ['PhysicalTests_TIME'])"
   ],
   "metadata": {
    "collapsed": false,
    "ExecuteTime": {
     "end_time": "2023-10-11T13:00:04.265262Z",
     "start_time": "2023-10-11T13:00:04.228515Z"
    }
   }
  },
  {
   "cell_type": "code",
   "execution_count": 21,
   "outputs": [],
   "source": [
    "filtered_limbs_df = filter_table(limbs_df, 'PhysicalTests_TIME')"
   ],
   "metadata": {
    "collapsed": false,
    "ExecuteTime": {
     "end_time": "2023-10-11T13:00:05.513186Z",
     "start_time": "2023-10-11T13:00:05.253329Z"
    }
   }
  },
  {
   "cell_type": "markdown",
   "source": [
    "## Physical tests lungs"
   ],
   "metadata": {
    "collapsed": false
   }
  },
  {
   "cell_type": "code",
   "execution_count": 22,
   "outputs": [],
   "source": [
    "lungs_df = pd.read_csv('data/Physical_Tests_Lungs.csv')\n",
    "lungs_df = to_dates(lungs_df, ['PhysicalTests_TIME'])"
   ],
   "metadata": {
    "collapsed": false,
    "ExecuteTime": {
     "end_time": "2023-10-11T13:00:06.119463Z",
     "start_time": "2023-10-11T13:00:06.074679Z"
    }
   }
  },
  {
   "cell_type": "code",
   "execution_count": 24,
   "outputs": [],
   "source": [
    "filtered_lungs_df = filter_table(lungs_df, 'PhysicalTests_TIME')"
   ],
   "metadata": {
    "collapsed": false,
    "ExecuteTime": {
     "end_time": "2023-10-11T13:00:06.650366Z",
     "start_time": "2023-10-11T13:00:06.614379Z"
    }
   }
  },
  {
   "cell_type": "markdown",
   "source": [
    "## Measures"
   ],
   "metadata": {
    "collapsed": false
   }
  },
  {
   "cell_type": "code",
   "execution_count": 25,
   "outputs": [
    {
     "name": "stderr",
     "output_type": "stream",
     "text": [
      "/var/folders/wc/nyw2632d74j_dl64800j39mw0000gn/T/ipykernel_752/2719536068.py:1: DtypeWarning: Columns (8) have mixed types. Specify dtype option on import or set low_memory=False.\n",
      "  measures_df = pd.read_csv('data/measures.csv')\n"
     ]
    }
   ],
   "source": [
    "measures_df = pd.read_csv('data/measures.csv')\n",
    "measures_df = to_dates(measures_df, ['MEASURE_DATE', 'MEASURE_TIME'])"
   ],
   "metadata": {
    "collapsed": false,
    "ExecuteTime": {
     "end_time": "2023-10-11T13:00:11.576869Z",
     "start_time": "2023-10-11T13:00:07.160577Z"
    }
   }
  },
  {
   "cell_type": "code",
   "execution_count": 27,
   "outputs": [],
   "source": [
    "# clear rows with missing date\n",
    "measures_df = measures_df.loc[measures_df['MEASURE_DATE'].notna()]"
   ],
   "metadata": {
    "collapsed": false,
    "ExecuteTime": {
     "end_time": "2023-10-11T13:00:11.788114Z",
     "start_time": "2023-10-11T13:00:11.592795Z"
    }
   }
  },
  {
   "cell_type": "code",
   "execution_count": 28,
   "outputs": [],
   "source": [
    "filtered_measures_df = filter_table(measures_df, 'MEASURE_TIME')"
   ],
   "metadata": {
    "collapsed": false,
    "ExecuteTime": {
     "end_time": "2023-10-11T13:00:12.822400Z",
     "start_time": "2023-10-11T13:00:11.790688Z"
    }
   }
  },
  {
   "cell_type": "markdown",
   "source": [
    "## Diagnosis"
   ],
   "metadata": {
    "collapsed": false
   }
  },
  {
   "cell_type": "code",
   "execution_count": 29,
   "outputs": [],
   "source": [
    "diagnosis_df = pd.read_csv('data/diags.csv')\n",
    "diagnosis_df = to_dates(diagnosis_df, ['DIAG_DATE'])"
   ],
   "metadata": {
    "collapsed": false,
    "ExecuteTime": {
     "end_time": "2023-10-11T13:00:13.540475Z",
     "start_time": "2023-10-11T13:00:12.823464Z"
    }
   }
  },
  {
   "cell_type": "code",
   "execution_count": 31,
   "outputs": [],
   "source": [
    "# clear rows with missing dates\n",
    "diagnosis_df = diagnosis_df.loc[diagnosis_df['DIAG_DATE'].notna()]"
   ],
   "metadata": {
    "collapsed": false,
    "ExecuteTime": {
     "end_time": "2023-10-11T13:00:13.570345Z",
     "start_time": "2023-10-11T13:00:13.551792Z"
    }
   }
  },
  {
   "cell_type": "code",
   "execution_count": 32,
   "outputs": [],
   "source": [
    "# take diagnosis before the admission date\n",
    "filtered_diagnosis_df = filter_table(diagnosis_df, 'DIAG_DATE', True)"
   ],
   "metadata": {
    "collapsed": false,
    "ExecuteTime": {
     "end_time": "2023-10-11T13:00:13.639923Z",
     "start_time": "2023-10-11T13:00:13.559700Z"
    }
   }
  },
  {
   "cell_type": "markdown",
   "source": [
    "## Drugs"
   ],
   "metadata": {
    "collapsed": false
   }
  },
  {
   "cell_type": "code",
   "execution_count": 33,
   "outputs": [],
   "source": [
    "drug_adm_df = pd.read_csv('data/drugs_adm.csv')\n",
    "drug_adm_df.rename(columns={'CASE_NO': 'case_no'}, inplace=True)\n",
    "drug_adm_df = to_dates(drug_adm_df, ['RECOMMENDATION_TIME', 'DRUG_START_TIME'])"
   ],
   "metadata": {
    "collapsed": false,
    "ExecuteTime": {
     "end_time": "2023-10-11T13:00:13.942996Z",
     "start_time": "2023-10-11T13:00:13.586141Z"
    }
   }
  },
  {
   "cell_type": "code",
   "execution_count": 35,
   "outputs": [],
   "source": [
    "# clear rows with missing dates\n",
    "drug_adm_df = drug_adm_df.loc[drug_adm_df['DRUG_START_TIME'].notna()]"
   ],
   "metadata": {
    "collapsed": false,
    "ExecuteTime": {
     "end_time": "2023-10-11T13:00:13.962927Z",
     "start_time": "2023-10-11T13:00:13.958259Z"
    }
   }
  },
  {
   "cell_type": "code",
   "execution_count": 36,
   "outputs": [],
   "source": [
    "# take drugs before the admission date\n",
    "filtered_drug_adm_df = filter_table(drug_adm_df, 'DRUG_START_TIME', True)"
   ],
   "metadata": {
    "collapsed": false,
    "ExecuteTime": {
     "end_time": "2023-10-11T13:00:14.028606Z",
     "start_time": "2023-10-11T13:00:13.964161Z"
    }
   }
  },
  {
   "cell_type": "code",
   "execution_count": 37,
   "outputs": [],
   "source": [
    "drug_med_df = pd.read_csv('data/drugs_med.csv')\n",
    "drug_med_df.rename(columns={'CASE_NO': 'case_no'}, inplace=True)\n",
    "drug_med_df = to_dates(drug_med_df, ['RECOMMENDATION_TIME', 'DRUG_START_TIME'])"
   ],
   "metadata": {
    "collapsed": false,
    "ExecuteTime": {
     "end_time": "2023-10-11T13:00:15.308790Z",
     "start_time": "2023-10-11T13:00:13.988728Z"
    }
   }
  },
  {
   "cell_type": "code",
   "execution_count": 39,
   "outputs": [],
   "source": [
    "# clear rows with missing dates\n",
    "drug_med_df = drug_med_df.loc[drug_med_df['DRUG_START_TIME'].notna()]"
   ],
   "metadata": {
    "collapsed": false,
    "ExecuteTime": {
     "end_time": "2023-10-11T13:00:15.401894Z",
     "start_time": "2023-10-11T13:00:15.321495Z"
    }
   }
  },
  {
   "cell_type": "code",
   "execution_count": 40,
   "outputs": [],
   "source": [
    "# take drugs before the admission date\n",
    "filtered_drug_med_df = filter_table(drug_med_df, 'DRUG_START_TIME', True)"
   ],
   "metadata": {
    "collapsed": false,
    "ExecuteTime": {
     "end_time": "2023-10-11T13:00:15.665436Z",
     "start_time": "2023-10-11T13:00:15.358422Z"
    }
   }
  },
  {
   "cell_type": "code",
   "execution_count": 41,
   "outputs": [],
   "source": [
    "drug_recom_df = pd.read_csv('data/drugs_recom.csv')\n",
    "drug_recom_df.rename(columns={'CASE_NO': 'case_no'}, inplace=True)\n",
    "drug_recom_df = to_dates(drug_recom_df, ['RECOMMENDATION_TIME'])"
   ],
   "metadata": {
    "collapsed": false,
    "ExecuteTime": {
     "end_time": "2023-10-11T13:00:15.873989Z",
     "start_time": "2023-10-11T13:00:15.666495Z"
    }
   }
  },
  {
   "cell_type": "code",
   "execution_count": 43,
   "outputs": [],
   "source": [
    "# clear rows with missing dates\n",
    "drug_recom_df = drug_recom_df.loc[drug_recom_df['RECOMMENDATION_TIME'].notna()]"
   ],
   "metadata": {
    "collapsed": false,
    "ExecuteTime": {
     "end_time": "2023-10-11T13:00:15.911107Z",
     "start_time": "2023-10-11T13:00:15.884656Z"
    }
   }
  },
  {
   "cell_type": "code",
   "execution_count": 44,
   "outputs": [],
   "source": [
    "# take drugs before the admission date\n",
    "filtered_drug_recom_df = filter_table(drug_recom_df, 'RECOMMENDATION_TIME', True)"
   ],
   "metadata": {
    "collapsed": false,
    "ExecuteTime": {
     "end_time": "2023-10-11T13:00:16.042040Z",
     "start_time": "2023-10-11T13:00:15.898734Z"
    }
   }
  },
  {
   "cell_type": "markdown",
   "source": [
    "## wards"
   ],
   "metadata": {
    "collapsed": false
   }
  },
  {
   "cell_type": "code",
   "execution_count": 46,
   "outputs": [],
   "source": [
    "wards_df = pd.read_csv('data/wards.csv', parse_dates=['dept_date_in', 'dept_date_out'])\n",
    "wards_df = to_dates(wards_df, ['dept_date_in', 'dept_date_out'])"
   ],
   "metadata": {
    "collapsed": false,
    "ExecuteTime": {
     "end_time": "2023-10-11T13:00:16.347522Z",
     "start_time": "2023-10-11T13:00:16.152582Z"
    }
   }
  },
  {
   "cell_type": "markdown",
   "source": [
    "## labs"
   ],
   "metadata": {
    "collapsed": false
   }
  },
  {
   "cell_type": "code",
   "execution_count": 48,
   "outputs": [
    {
     "name": "stderr",
     "output_type": "stream",
     "text": [
      "/var/folders/wc/nyw2632d74j_dl64800j39mw0000gn/T/ipykernel_752/648249376.py:1: DtypeWarning: Columns (4) have mixed types. Specify dtype option on import or set low_memory=False.\n",
      "  labs_df = pd.read_csv('all_labs.csv', index_col=0)\n"
     ]
    }
   ],
   "source": [
    "labs_df = pd.read_csv('all_labs.csv', index_col=0)\n",
    "labs_df = to_dates(labs_df, ['LAB_TIME'])"
   ],
   "metadata": {
    "collapsed": false,
    "ExecuteTime": {
     "end_time": "2023-10-11T13:00:27.843386Z",
     "start_time": "2023-10-11T13:00:18.072445Z"
    }
   }
  },
  {
   "cell_type": "code",
   "execution_count": 50,
   "outputs": [],
   "source": [
    "# clear rows with missing dates\n",
    "labs_df = labs_df.loc[labs_df['LAB_DATE'].notna()]"
   ],
   "metadata": {
    "collapsed": false,
    "ExecuteTime": {
     "end_time": "2023-10-11T13:00:28.562873Z",
     "start_time": "2023-10-11T13:00:27.957354Z"
    }
   }
  },
  {
   "cell_type": "code",
   "execution_count": null,
   "outputs": [],
   "source": [
    "# take drugs before the admission date\n",
    "filtered_labs_df = filter_table(labs_df, 'LAB_TIME')\n",
    "# remove the objective lab test\n",
    "filtered_labs_df = filtered_labs_df.loc[filtered_labs_df['LAB_EXAMINATION_NAME'] != 'Creatinine-BL']"
   ],
   "metadata": {
    "collapsed": false,
    "is_executing": true
   }
  },
  {
   "cell_type": "markdown",
   "source": [
    "## Save tables"
   ],
   "metadata": {
    "collapsed": false
   }
  },
  {
   "cell_type": "code",
   "execution_count": 52,
   "outputs": [],
   "source": [
    "filtered_jugular_df.to_csv('filtered data/filtered_jugular_df.csv')\n",
    "filtered_limbs_df.to_csv('filtered data/filtered_limbs_df.csv')\n",
    "filtered_lungs_df.to_csv('filtered data/filtered_lungs_df.csv')\n",
    "filtered_diagnosis_df.to_csv('filtered data/filtered_diagnosis_df.csv')\n",
    "filtered_measures_df.to_csv('filtered data/filtered_measures_df.csv')\n",
    "filtered_labs_df.to_csv('filtered data/filtered_labs_df.csv')\n",
    "filtered_drug_adm_df.to_csv('filtered data/filtered_drug_adm_df.csv')\n",
    "filtered_drug_med_df.to_csv('filtered data/filtered_drug_med_df.csv')\n",
    "filtered_drug_recom_df.to_csv('filtered data/filtered_drug_recom_df.csv')"
   ],
   "metadata": {
    "collapsed": false,
    "ExecuteTime": {
     "end_time": "2023-10-11T13:03:52.886960Z",
     "start_time": "2023-10-11T13:03:29.639967Z"
    }
   }
  }
 ],
 "metadata": {
  "kernelspec": {
   "display_name": "Python 3",
   "language": "python",
   "name": "python3"
  },
  "language_info": {
   "codemirror_mode": {
    "name": "ipython",
    "version": 2
   },
   "file_extension": ".py",
   "mimetype": "text/x-python",
   "name": "python",
   "nbconvert_exporter": "python",
   "pygments_lexer": "ipython2",
   "version": "2.7.6"
  }
 },
 "nbformat": 4,
 "nbformat_minor": 0
}
